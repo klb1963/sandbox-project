{
 "cells": [
  {
   "cell_type": "code",
   "execution_count": 9,
   "id": "3968a594-2aee-46cb-a390-5c9db9cdaeec",
   "metadata": {},
   "outputs": [
    {
     "name": "stdout",
     "output_type": "stream",
     "text": [
      "1. 💼 Ihre Vorteile - das erwartet Sie:\n",
      "2. 💼 Festanstellung CRM Consultant - Vollzeit\n",
      "3. 💼 Festanstellung CRM Support Specialist - Vollzeit\n",
      "4. 💼 Festanstellung ERP Support Specialist - Vollzeit\n",
      "5. 💼 Ausbildung zum Fachinformatiker/In - Anwendungsentwicklung\n",
      "6. 💼 Ausbildung zum IT Systemkaufmann/Frau\n"
     ]
    }
   ],
   "source": [
    "import requests\n",
    "from bs4 import BeautifulSoup\n",
    "\n",
    "url = \"https://www.smc-it.de/karriere/\"\n",
    "response = requests.get(url)\n",
    "soup = BeautifulSoup(response.text, \"html.parser\")\n",
    "\n",
    "vacancies = []\n",
    "\n",
    "# Находим все заголовки вакансий\n",
    "for h3 in soup.select(\"h3.elementor-heading-title\"):\n",
    "    title = h3.get_text(strip=True)\n",
    "    if title:  # фильтруем пустые\n",
    "        vacancies.append(title)\n",
    "\n",
    "# Печатаем результат\n",
    "for idx, v in enumerate(vacancies, 1):\n",
    "    print(f\"{idx}. 💼 {v}\")"
   ]
  },
  {
   "cell_type": "code",
   "execution_count": 10,
   "id": "f204d847-e20c-4258-97bd-b52f23bb6e7f",
   "metadata": {},
   "outputs": [
    {
     "name": "stdout",
     "output_type": "stream",
     "text": [
      "1. 💼 Ihre Vorteile - das erwartet Sie:\n",
      "   📝 —\n",
      "\n",
      "2. 💼 Festanstellung CRM Consultant - Vollzeit\n",
      "   📝 —\n",
      "\n",
      "3. 💼 Festanstellung CRM Support Specialist - Vollzeit\n",
      "   📝 —\n",
      "\n",
      "4. 💼 Festanstellung ERP Support Specialist - Vollzeit\n",
      "   📝 —\n",
      "\n",
      "5. 💼 Ausbildung zum Fachinformatiker/In - Anwendungsentwicklung\n",
      "   📝 —\n",
      "\n"
     ]
    }
   ],
   "source": [
    "import requests\n",
    "from bs4 import BeautifulSoup\n",
    "\n",
    "url = \"https://www.smc-it.de/karriere/\"\n",
    "response = requests.get(url)\n",
    "soup = BeautifulSoup(response.text, \"html.parser\")\n",
    "\n",
    "vacancies = []\n",
    "\n",
    "# Ищем заголовки вакансий\n",
    "for h3 in soup.select(\"h3.elementor-heading-title\"):\n",
    "    title = h3.get_text(strip=True)\n",
    "    \n",
    "    # Пробуем найти описание — ближайший сосед div после h3\n",
    "    desc_div = h3.find_parent().find_next_sibling(\"div\")\n",
    "    description = desc_div.get_text(strip=True) if desc_div else \"—\"\n",
    "\n",
    "    if title:\n",
    "        vacancies.append((title, description))\n",
    "\n",
    "# Выводим первые 5 вакансий\n",
    "for idx, (title, desc) in enumerate(vacancies[:5], 1):\n",
    "    print(f\"{idx}. 💼 {title}\\n   📝 {desc}\\n\")"
   ]
  },
  {
   "cell_type": "code",
   "execution_count": 12,
   "id": "c222c1ce-0f1d-43fc-b039-a94720efd12a",
   "metadata": {},
   "outputs": [
    {
     "name": "stdout",
     "output_type": "stream",
     "text": [
      "1. 💼 Ihre Vorteile - das erwartet Sie:\n",
      "📝 Wir sind das Bindeglied zwischen Kundenberatung und Technik, zwischen fachlichen Anforderungen und technischer Umsetzung im CRM- und ERP Umfeld.\n",
      "Ein Team von erfahrenen IT-Spezialisten, die sich gegenseitig unterstützen\n",
      "Kreative Mitarbeiter, die gemeinsam an Lösungen für unsere Kunden arbeiten\n",
      "Kollegen, die Ihnen dabei helfen, noch besser in Ihren Fähigkeiten zu werden\n",
      "Ein inhabergeführtes IT-Unternehmen mit 23 Mitarbeitern\n",
      "\n",
      "2. 💼 Festanstellung CRM Consultant - Vollzeit\n",
      "📝 Der ideale CRM Consultant bringt folgende Fähigkeiten mit:\n",
      "Leidenschaft für Prozesse und deren Umsetzung im CRM-System\n",
      "Fundierte Kenntnisse von CRM-basierten Geschäftsabläufen\n",
      "Erfahrung im Bereich Projektmanagement\n",
      "Freude daran, Prozesse zu gestalten und zu optimieren\n",
      "Kundenprojekte zu leiten und zu steuern\n",
      "Projektteams zu führen und anzuleiten\n",
      "Schulungen für Anwender durchzuführen\n",
      "Trainingsmaterial zu erstellen und zu dokumentieren\n",
      "Kenntnisse in Bezug auf Microsoft SQL-Server und Exchange/Outlook\n",
      "Einen hohen Grad an Eigenmotivation Neues zu erlernen\n",
      "Prinzipielle Reisebereitschaft\n",
      "Leidenschaft für Prozesse und deren Umsetzung im Team\n",
      "\n",
      "3. 💼 Festanstellung CRM Support Specialist - Vollzeit\n",
      "📝 Der ideale CRM Support Specialist hat folgende Aufgaben und Fähigkeiten:\n",
      "Die Leidenschaft unseren Kunden/Interessenten zu helfen\n",
      "Annahme und Bearbeitung von Kundenanfragen im First-Level-Support\n",
      "Datenpflege und Dokumentation im CRM Ticket-System\n",
      "Telefonische Annahme komplexer Kundenanfragen und Reklamationen\n",
      "Beantwortung von Kunden-Emails, Anfragen und Reklamationen\n",
      "Optimierung von externen und internen Geschäftsprozessen\n",
      "Kenntnisse in Bezug auf Microsoft SQL-Server und Exchange/Outlook\n",
      "Einen hohen Grad an Eigenmotivation Neues zu erlernen\n",
      "\n"
     ]
    }
   ],
   "source": [
    "import requests\n",
    "from bs4 import BeautifulSoup\n",
    "\n",
    "url = \"https://www.smc-it.de/karriere/\"\n",
    "response = requests.get(url)\n",
    "soup = BeautifulSoup(response.text, \"html.parser\")\n",
    "\n",
    "vacancies = []\n",
    "\n",
    "for h3 in soup.select(\"h3.elementor-heading-title\"):\n",
    "    title = h3.get_text(strip=True)\n",
    "\n",
    "    # 👉 Находим ближайший следующий div-контейнер\n",
    "    next_container = h3.find_next(\"div\", class_=\"elementor-widget-container\")\n",
    "    if not next_container:\n",
    "        continue\n",
    "\n",
    "    description_parts = []\n",
    "\n",
    "    # ✍️ Первый абзац <p>\n",
    "    p = next_container.find(\"p\")\n",
    "    if p:\n",
    "        description_parts.append(p.get_text(strip=True))\n",
    "\n",
    "    # ✍️ Список <ul><li>\n",
    "    ul = next_container.find(\"ul\")\n",
    "    if ul:\n",
    "        items = [li.get_text(strip=True) for li in ul.find_all(\"li\")]\n",
    "        description_parts.extend(items)\n",
    "\n",
    "    description = \"\\n\".join(description_parts)\n",
    "    vacancies.append((title, description))\n",
    "\n",
    "# ✅ Выводим 3 результата\n",
    "for idx, (title, desc) in enumerate(vacancies[:3], 1):\n",
    "    print(f\"{idx}. 💼 {title}\\n📝 {desc}\\n\")"
   ]
  }
 ],
 "metadata": {
  "kernelspec": {
   "display_name": "Python 3 (ipykernel)",
   "language": "python",
   "name": "python3"
  },
  "language_info": {
   "codemirror_mode": {
    "name": "ipython",
    "version": 3
   },
   "file_extension": ".py",
   "mimetype": "text/x-python",
   "name": "python",
   "nbconvert_exporter": "python",
   "pygments_lexer": "ipython3",
   "version": "3.13.1"
  }
 },
 "nbformat": 4,
 "nbformat_minor": 5
}
